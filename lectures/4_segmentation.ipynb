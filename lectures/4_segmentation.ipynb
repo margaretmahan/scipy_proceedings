{
 "cells": [
  {
   "cell_type": "code",
   "execution_count": null,
   "metadata": {
    "collapsed": false
   },
   "outputs": [],
   "source": [
    "from __future__ import division, print_function\n",
    "%matplotlib inline"
   ]
  },
  {
   "cell_type": "markdown",
   "metadata": {},
   "source": [
    "# Segmentation\n",
    "\n",
    "\n",
    "Segmentation is the division of an image into \"meaningful\" regions. If you've seen The Terminator, you've seen image segmentation:\n",
    "\n",
    "<img src=\"../2014-scipy/images/terminator-vision.png\" width=\"700px\"/>\n",
    "\n",
    "In `scikit-image`, you can find segmentation functions in the `segmentation` package, with one exception: the `watershed` function is in `morphology`, because it's a bit of both. We'll use two algorithms, SLIC and watershed, and discuss applications of each.\n",
    "\n",
    "There are two kinds of segmentation: *contrast-based* and *boundary-based*. The first is used when the regions of the image you are trying to divide have different characteristics, such as a red flower on a green background. The second is used when you want to segment an image in which borders between objects are prominent, but objects themselves are not very distinct. For example, a pile of oranges.\n",
    "\n",
    "## Image types: contrast\n",
    "\n",
    "SLIC (Simple Linear Iterative Clustering) is a segmentation algorithm of the first kind: it clusters pixels in both space and color. Therefore, regions of space that are similar in color will end up in the same segment.\n",
    "\n",
    "Let's try to segment this image:\n",
    "\n",
    "<img src=\"../images/spice_1.jpg\" width=\"400px\"/>\n",
    "\n",
    "(Photo by Flickr user Clyde Robinson, used under CC-BY 2.0 license.)\n",
    "\n",
    "The SLIC function takes two parameters: the desired number of segments, and the \"compactness\", which is the relative weighting of the space and color dimensions. The higher the compactness, the more \"square\" the returned segments."
   ]
  },
  {
   "cell_type": "code",
   "execution_count": null,
   "metadata": {
    "collapsed": false
   },
   "outputs": [],
   "source": [
    "import numpy as np\n",
    "from matplotlib import pyplot as plt"
   ]
  },
  {
   "cell_type": "code",
   "execution_count": null,
   "metadata": {
    "collapsed": false
   },
   "outputs": [],
   "source": [
    "import skdemo\n",
    "plt.rcParams['image.cmap'] = 'spectral'\n",
    "from skimage import io, segmentation as seg, color\n",
    "\n",
    "url = '../images/spice_1.jpg'\n",
    "image = io.imread(url)"
   ]
  },
  {
   "cell_type": "code",
   "execution_count": null,
   "metadata": {
    "collapsed": false
   },
   "outputs": [],
   "source": [
    "labels = seg.slic(image, n_segments=18, compactness=10)\n",
    "skdemo.imshow_all(image, labels.astype(float) / labels.max())\n",
    "print(labels)"
   ]
  },
  {
   "cell_type": "markdown",
   "metadata": {},
   "source": [
    "We can try to create a nicer visualization for `labels`: each segment will be represented by its average color."
   ]
  },
  {
   "cell_type": "code",
   "execution_count": null,
   "metadata": {
    "collapsed": false
   },
   "outputs": [],
   "source": [
    "def mean_color(image, labels):\n",
    "    out = np.zeros_like(image)\n",
    "    for label in np.unique(labels):\n",
    "        indices = np.nonzero(labels == label)\n",
    "        out[indices] = np.mean(image[indices], axis=0)\n",
    "    return out\n",
    "\n",
    "skdemo.imshow_all(image, mean_color(image, labels))"
   ]
  },
  {
   "cell_type": "markdown",
   "metadata": {},
   "source": [
    "Notice that some spices are broken up into \"light\" and \"dark\" parts. We have multiple parameters to control this:\n",
    "\n",
    "- `enforce_connectivity`: Do some post-processing so that small regions get merged to adjacent big regions."
   ]
  },
  {
   "cell_type": "code",
   "execution_count": null,
   "metadata": {
    "collapsed": false
   },
   "outputs": [],
   "source": [
    "labels = seg.slic(image, n_segments=18, compactness=10,\n",
    "                  enforce_connectivity=True)\n",
    "label_image = mean_color(image, labels)\n",
    "skdemo.imshow_all(image, label_image)"
   ]
  },
  {
   "cell_type": "markdown",
   "metadata": {},
   "source": [
    "Yikes! It looks like a little too much merging went on! This is because of the intertwining of the labels. One way to avoid this is to blur the image before segmentation. Because this is such a common use-case, a Gaussian blur is included in SLIC--just pass in the `sigma` parameter:"
   ]
  },
  {
   "cell_type": "code",
   "execution_count": null,
   "metadata": {
    "collapsed": false
   },
   "outputs": [],
   "source": [
    "labels = seg.slic(image, n_segments=18, compactness=10,\n",
    "                  sigma=2, enforce_connectivity=True)\n",
    "label_image = mean_color(image, labels)\n",
    "skdemo.imshow_all(image, label_image)"
   ]
  },
  {
   "cell_type": "markdown",
   "metadata": {},
   "source": [
    "Getting there! But it looks like some regions are merged together. We can alleviate this by increasing the number of segments:"
   ]
  },
  {
   "cell_type": "code",
   "execution_count": null,
   "metadata": {
    "collapsed": false
   },
   "outputs": [],
   "source": [
    "labels = seg.slic(image, n_segments=24, compactness=10,\n",
    "                  sigma=2, enforce_connectivity=True)\n",
    "label_image = mean_color(image, labels)\n",
    "skdemo.imshow_all(image, label_image)"
   ]
  },
  {
   "cell_type": "markdown",
   "metadata": {},
   "source": [
    "That's looking pretty good! Some regions are still too squiggly though... Let's try jacking up the compactness:"
   ]
  },
  {
   "cell_type": "code",
   "execution_count": null,
   "metadata": {
    "collapsed": false
   },
   "outputs": [],
   "source": [
    "labels = seg.slic(image, n_segments=24, compactness=40,\n",
    "                  sigma=2, enforce_connectivity=True)\n",
    "label_image = mean_color(image, labels)\n",
    "skdemo.imshow_all(image, label_image)"
   ]
  },
  {
   "cell_type": "markdown",
   "metadata": {},
   "source": [
    "## <span class=\"exercize\">SLIC explorer</span>\n",
    "Write an interactive tool to explore the SLIC parameter space.  A skeleton is\n",
    "given below."
   ]
  },
  {
   "cell_type": "markdown",
   "metadata": {},
   "source": [
    "```python\n",
    "from IPython.html import widgets\n",
    "\n",
    "def func(slider_kwarg=0.5, dropdown_kwarg='option0'):\n",
    "    s = some_func(image, arg1=slider_kwarg, arg2=dropdown_kwarg)\n",
    "    skdemo.imshow_all(image, s)\n",
    "\n",
    "widgets.interact(func, slider_kwarg=(start, stop, step),\n",
    "                 dropdown_kwarg=['option0', 'option1'])\n",
    "```"
   ]
  },
  {
   "cell_type": "markdown",
   "metadata": {},
   "source": [
    "## <span class=\"exercize\">Select the spices</span>\n",
    "\n",
    "Try segmenting the following image with a modification to the same tool:\n",
    "\n",
    "<img src=\"../images/spices.jpg\" width=\"400px\"/>\n",
    "\n",
    "\"Spices\" photo by Flickr user Riyaad Minty.\n",
    "https://www.flickr.com/photos/riym/3326786046\n",
    "Used under the Creative Commons CC-BY 2.0 license.\n",
    "\n",
    "Note: this image is more challenging to segment because the color regions are different from one part of the image to the other. Try the `slic_zero` parameter in combination with different values for `n_segments`."
   ]
  },
  {
   "cell_type": "code",
   "execution_count": null,
   "metadata": {
    "collapsed": false
   },
   "outputs": [],
   "source": [
    "url2 = '../images/spices.jpg'"
   ]
  },
  {
   "cell_type": "markdown",
   "metadata": {},
   "source": [
    "## Image types: boundary images\n",
    "\n",
    "Often, the contrast between regions is not sufficient to distinguish them, but there is a clear boundary between the two. Using an edge detector on these images, followed by a *watershed*, often gives very good segmentation. For example, look at the output of the Sobel filter on the coins image:"
   ]
  },
  {
   "cell_type": "code",
   "execution_count": null,
   "metadata": {
    "collapsed": false
   },
   "outputs": [],
   "source": [
    "from skimage import data\n",
    "from skimage import filters\n",
    "from matplotlib import pyplot as plt, cm"
   ]
  },
  {
   "cell_type": "code",
   "execution_count": null,
   "metadata": {
    "collapsed": false
   },
   "outputs": [],
   "source": [
    "coins = data.coins()\n",
    "edges = filters.sobel(coins)\n",
    "\n",
    "plt.imshow(edges, cmap='gray');"
   ]
  },
  {
   "cell_type": "markdown",
   "metadata": {},
   "source": [
    "The *watershed algorithm* finds the regions between these edges. It does so by envisioning the pixel intensity as height on a topographic map. It then \"floods\" the map from the bottom up, starting from seed points. These flood areas are called \"watershed basins\" and when they meet, they form the image segmentation.\n",
    "\n",
    "Let's look at a one-dimensional example:"
   ]
  },
  {
   "cell_type": "code",
   "execution_count": null,
   "metadata": {
    "collapsed": false
   },
   "outputs": [],
   "source": [
    "from skimage.morphology import watershed\n",
    "from scipy import ndimage as ndi\n",
    "\n",
    "x = np.array([0, 1, 2, 3, 4, 5, 6, 7, 8, 9, 10, 11])\n",
    "y = np.array([1, 0, 1, 2, 1, 3, 2, 0, 2, 4, 1, 0])\n",
    "\n",
    "seeds = ndi.label(y == 0)[0]\n",
    "seed_positions = np.argwhere(seeds)[:, 0]\n",
    "\n",
    "print(\"Seeds:\", seeds)\n",
    "print(\"Seed positions:\", seed_positions)\n",
    "\n",
    "# ------------------------------- #\n",
    "result = watershed(y, seeds)\n",
    "# ------------------------------- #\n",
    "\n",
    "# You can ignore the code below--it's just\n",
    "# to make a pretty plot of the results.\n",
    "plt.figure(figsize=(10, 5))\n",
    "plt.plot(y, '-o', label='Image slice', linewidth=3)\n",
    "plt.plot(seed_positions, np.zeros_like(seed_positions), 'r^',\n",
    "         label='Seeds', markersize=15)\n",
    "\n",
    "for n, label in enumerate(np.unique(result)):\n",
    "    mask = (result == label)\n",
    "    plt.bar(x[mask][:-1], result[mask][:-1],\n",
    "            width=1, label='Region %d' % n,\n",
    "            alpha=0.1)\n",
    "\n",
    "plt.vlines(np.argwhere(np.diff(result)) + 0.5, -0.2, 4.1, 'm',\n",
    "           linewidth=3, linestyle='--')\n",
    "\n",
    "plt.legend(loc='upper left', numpoints=1)\n",
    "plt.axis('off')\n",
    "plt.ylim(-0.2, 4.1);"
   ]
  },
  {
   "cell_type": "markdown",
   "metadata": {},
   "source": [
    "Answers the question: which seed flooded this point?"
   ]
  },
  {
   "cell_type": "markdown",
   "metadata": {},
   "source": [
    "Let's find some seeds for `coins`. First, we compute the *distance transform* of a thresholded version of `edges`:"
   ]
  },
  {
   "cell_type": "code",
   "execution_count": null,
   "metadata": {
    "collapsed": false
   },
   "outputs": [],
   "source": [
    "threshold = 0.4\n",
    "\n",
    "# Euclidean distance transform\n",
    "# How far do we ave to travel from a non-edge to find an edge?\n",
    "non_edges = (edges < threshold)\n",
    "distance_from_edge = ndi.distance_transform_edt(non_edges)\n",
    "\n",
    "plt.imshow(distance_from_edge, cmap='gray');"
   ]
  },
  {
   "cell_type": "markdown",
   "metadata": {},
   "source": [
    "Then, we find the *peaks* in that image--the background points furthest away from any edges--which will act as the seeds."
   ]
  },
  {
   "cell_type": "code",
   "execution_count": null,
   "metadata": {
    "collapsed": false
   },
   "outputs": [],
   "source": [
    "from skimage import feature\n",
    "\n",
    "# -------------------------------------------------#\n",
    "peaks = feature.peak_local_max(distance_from_edge)\n",
    "print(\"Peaks shape:\", peaks.shape)\n",
    "# -------------------------------------------------#\n",
    "\n",
    "peaks_image = np.zeros(coins.shape, np.bool)\n",
    "peaks_image[tuple(np.transpose(peaks))] = True\n",
    "seeds, num_seeds = ndi.label(peaks_image)\n",
    "\n",
    "plt.imshow(edges, cmap='gray')\n",
    "plt.plot(peaks[:, 1], peaks[:, 0], 'ro');\n",
    "plt.axis('image')"
   ]
  },
  {
   "cell_type": "markdown",
   "metadata": {},
   "source": [
    "We are now ready to perform the watershed:"
   ]
  },
  {
   "cell_type": "code",
   "execution_count": null,
   "metadata": {
    "collapsed": false
   },
   "outputs": [],
   "source": [
    "ws = watershed(edges, seeds)\n",
    "\n",
    "from skimage import color\n",
    "plt.imshow(color.label2rgb(ws, coins));"
   ]
  },
  {
   "cell_type": "markdown",
   "metadata": {},
   "source": [
    "## Examining the resulting segmentation\n",
    "\n",
    "We have more prior knowledge that we can include in this processing problem.\n",
    "For one--the coins are round!"
   ]
  },
  {
   "cell_type": "code",
   "execution_count": null,
   "metadata": {
    "collapsed": false
   },
   "outputs": [],
   "source": [
    "from skimage.measure import regionprops\n",
    "\n",
    "regions = regionprops(ws)\n",
    "\n",
    "ws_updated = ws.copy()\n",
    "for region in regions:\n",
    "    if region.eccentricity > 0.6:\n",
    "        ws_updated[ws_updated == region.label] = 0\n",
    "\n",
    "plt.imshow(color.label2rgb(ws_updated, coins, bg_label=0));"
   ]
  },
  {
   "cell_type": "markdown",
   "metadata": {},
   "source": [
    "## <span class=\"exercize\">Seeds of doubt</span>\n",
    "\n",
    "We can see that watershed gives a very good segmentation, but some coins are missing. Why? Can you suggest better seed points for the watershed operation?"
   ]
  },
  {
   "cell_type": "markdown",
   "metadata": {},
   "source": [
    "# Discussion\n",
    "\n",
    "Watershed and SLIC are too simple to be used as final segmentation outputs. In fact, their output is often called a *superpixel*, a kind of minimal segment. These are then used for further processing. Downstream processing methods are slated to be added to scikit-image in the next version. See Vighnesh Birodkar's [GSoC project](http://www.google-melange.com/gsoc/proposal/public/google/gsoc2014/vighneshbirodkar/5870670537818112) and his recent (and excellent) [PR](https://github.com/scikit-image/scikit-image/pull/1031). These are beyond the scope of this tutorial but come chat to me after if you are interested in segmentation!"
   ]
  },
  {
   "cell_type": "markdown",
   "metadata": {},
   "source": [
    "---\n",
    "\n",
    "<div style=\"height: 400px;\"></div>"
   ]
  },
  {
   "cell_type": "code",
   "execution_count": null,
   "metadata": {
    "collapsed": false
   },
   "outputs": [],
   "source": [
    "%reload_ext load_style\n",
    "%load_style ../themes/tutorial.css"
   ]
  },
  {
   "cell_type": "code",
   "execution_count": null,
   "metadata": {
    "collapsed": false
   },
   "outputs": [],
   "source": []
  }
 ],
 "metadata": {
  "kernelspec": {
   "display_name": "Python 2",
   "language": "python",
   "name": "python2"
  },
  "language_info": {
   "codemirror_mode": {
    "name": "ipython",
    "version": 2
   },
   "file_extension": ".py",
   "mimetype": "text/x-python",
   "name": "python",
   "nbconvert_exporter": "python",
   "pygments_lexer": "ipython2",
   "version": "2.7.9"
  }
 },
 "nbformat": 4,
 "nbformat_minor": 0
}
